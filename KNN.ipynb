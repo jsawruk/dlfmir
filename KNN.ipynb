{
 "cells": [
  {
   "cell_type": "markdown",
   "metadata": {},
   "source": [
    "# The Nearest Neighbors Algorithm in Python #\n",
    "\n",
    "No we will try to use the KNN on real music data by rewriting it in python. \n",
    "The dataset we will use to start will be the [University of Iowa Musical Instrument Samples Dataset](http://theremin.music.uiowa.edu/index.html). The first two cells in this notebook will load the dataset for you. Make sure you have downloaded the `Iowa_MIS_dataset.mat` file and you have put it the same directory where this notebook lives."
   ]
  },
  {
   "cell_type": "code",
   "execution_count": 1,
   "metadata": {
    "collapsed": true
   },
   "outputs": [],
   "source": [
    "import numpy as np\n",
    "import scipy.io\n",
    "from scipy.stats import mode"
   ]
  },
  {
   "cell_type": "code",
   "execution_count": 2,
   "metadata": {
    "collapsed": true
   },
   "outputs": [],
   "source": [
    "Iowa_MIS_dataset = scipy.io.loadmat('Iowa_MIS_dataset.mat')\n",
    "data = Iowa_MIS_dataset['dat_all']"
   ]
  },
  {
   "cell_type": "markdown",
   "metadata": {},
   "source": [
    "The variable `data` is of size [660,88201], and is is already shuffled (it's always good to double check, just to make sure). The number of rows tells you the number of datapoints in the dataset, and the number of columns - 1 tells you the dimensionality of the dataset. The rightmost column in the matrix contains the labels for all datapoints. Possible labels are:\n",
    "\n",
    "0 'Bass'\n",
    "\n",
    "1 'Bassoon'\n",
    "\n",
    "2 'Cello'\n",
    "\n",
    "3 'Clarinet'\n",
    "\n",
    "4 'Flute'\n",
    "\n",
    "5 'Guitar'\n",
    "\n",
    "6 'Horn'\n",
    "\n",
    "7 'Sax'\n",
    "\n",
    "8 'Trombone'\n",
    "\n",
    "9 'Trumpet'\n",
    "\n",
    "10 'Viola'\n",
    "\n",
    "11 'Violin'\n",
    "\n",
    "Next, separate the datapoints into training (~80% of the data), validation (~10%), and test sets (~10%) (procedure should be very similar to what you did in Julia)."
   ]
  },
  {
   "cell_type": "code",
   "execution_count": 3,
   "metadata": {
    "collapsed": true
   },
   "outputs": [],
   "source": [
    "# general data parameters\n",
    "N = data.shape[0]\n",
    "D = data.shape[1]-1\n",
    "C = 12\n",
    "\n",
    "# your code here:\n",
    "shuffled_data = data[:]\n",
    "np.random.shuffle(shuffled_data)\n",
    "del data"
   ]
  },
  {
   "cell_type": "code",
   "execution_count": 4,
   "metadata": {},
   "outputs": [
    {
     "name": "stdout",
     "output_type": "stream",
     "text": [
      "(660, 88201)\n",
      "Train Shapes: X: (528, 88200), Y: (528,)\n",
      "Val Shapes: X: (66, 88200), Y: (66,)\n",
      "Test Shapes: X: (66, 88200), Y: (66,)\n"
     ]
    }
   ],
   "source": [
    "train_size = int(0.8 * N)\n",
    "val_size = int(0.1 * N)\n",
    "test_size = int(0.1 * N)\n",
    "print(shuffled_data.shape)\n",
    "x_tr = shuffled_data[:train_size, :-1]\n",
    "y_tr = shuffled_data[:train_size, D]\n",
    "print(\"Train Shapes: X: \" + str(x_tr.shape) + \", Y: \" + str(y_tr.shape))\n",
    "\n",
    "x_vl = shuffled_data[train_size:train_size + val_size, :-1]\n",
    "y_vl = shuffled_data[train_size:train_size + val_size, D]\n",
    "print(\"Val Shapes: X: \" + str(x_vl.shape) + \", Y: \" + str(y_vl.shape))\n",
    "\n",
    "x_ts = shuffled_data[train_size + val_size:, :-1]\n",
    "y_ts = shuffled_data[train_size + val_size:, D]\n",
    "print(\"Test Shapes: X: \" + str(x_ts.shape) + \", Y: \" + str(y_ts.shape))"
   ]
  },
  {
   "cell_type": "code",
   "execution_count": 8,
   "metadata": {},
   "outputs": [
    {
     "name": "stdout",
     "output_type": "stream",
     "text": [
      "accuracy with  1 nearest neighbors:  0.16666666666666666\n",
      "accuracy with  3 nearest neighbors:  0.15151515151515152\n",
      "accuracy with  5 nearest neighbors:  0.07575757575757576\n",
      "accuracy with  7 nearest neighbors:  0.10606060606060606\n",
      "accuracy with  9 nearest neighbors:  0.06060606060606061\n",
      "accuracy with  11 nearest neighbors:  0.06060606060606061\n",
      "accuracy with  13 nearest neighbors:  0.045454545454545456\n",
      "accuracy with  15 nearest neighbors:  0.045454545454545456\n",
      "accuracy with  17 nearest neighbors:  0.06060606060606061\n",
      "accuracy with  19 nearest neighbors:  0.06060606060606061\n"
     ]
    }
   ],
   "source": [
    "for k in range(1,20,2):\n",
    "\n",
    "    num_correct = 0\n",
    "    for i in range(x_vl.shape[0]):\n",
    "\n",
    "        # calculate the L1 norm between each point that you used to train the model\n",
    "        # and each point that you use to validate the model.    \n",
    "        # your code here:\n",
    "        #distances = sum(abs(x_tr .- reshape(x_vl[i,:], 1, size(x_tr)[2])), 2);\n",
    "        distances = np.sum(abs(x_tr - x_vl[i,:]), axis=1)\n",
    "        \n",
    "        # obtain the indices that would sort the array in ascending order\n",
    "        # your code here:\n",
    "        KNN_index = np.argsort(distances)[0:k]\n",
    "\n",
    "        # obtain the labels for the KNNs using their indices\n",
    "        # your code here:\n",
    "        KNNs = y_tr[KNN_index]\n",
    "\n",
    "        # have the neighbors vote [hint: use the scipy function 'mode']\n",
    "        # your code here:\n",
    "        predicted_label = mode(KNNs)\n",
    "        #print(predicted_label)\n",
    "\n",
    "        if  int(predicted_label.mode[0]) == int(y_vl[i]):\n",
    "            num_correct += 1\n",
    "\n",
    "    print('accuracy with ', k, 'nearest neighbors: ', float(num_correct)/x_vl.shape[0])        "
   ]
  },
  {
   "cell_type": "markdown",
   "metadata": {},
   "source": [
    "What is the best accuracy that you obtained? Was it above chance?\n",
    "\n",
    "How could you make this model better?"
   ]
  }
 ],
 "metadata": {
  "kernelspec": {
   "display_name": "Python 3",
   "language": "python",
   "name": "python3"
  },
  "language_info": {
   "codemirror_mode": {
    "name": "ipython",
    "version": 3
   },
   "file_extension": ".py",
   "mimetype": "text/x-python",
   "name": "python",
   "nbconvert_exporter": "python",
   "pygments_lexer": "ipython3",
   "version": "3.5.3"
  }
 },
 "nbformat": 4,
 "nbformat_minor": 2
}
